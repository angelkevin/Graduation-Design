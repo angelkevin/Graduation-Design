{
 "cells": [
  {
   "cell_type": "code",
   "execution_count": 105,
   "metadata": {
    "collapsed": true
   },
   "outputs": [
    {
     "name": "stdout",
     "output_type": "stream",
     "text": [
      "        代码     名称    最新价   涨跌幅   涨跌额   成交量(手)           成交额    振幅     最高  \\\n",
      "0   688359   三孚新科  69.86 19.99 11.64    33486  220134113.00 21.92  69.86   \n",
      "1   688229   博睿数据  58.22 19.99  9.70    37189  208754255.00 15.77  58.22   \n",
      "2   688555  *ST泽达   6.10 18.68  0.96   115354   64572843.00 23.35   6.16   \n",
      "3   300964   本川智能  49.02 17.84  7.42   131889  603383338.55 19.90  49.90   \n",
      "4   688383    新益昌 126.03 14.12 15.59    18694  226142633.00 14.14 126.60   \n",
      "5   300114   中航电测  60.51 13.87  7.37   781621 4417774709.34 17.78  62.58   \n",
      "6   688117   圣诺生物  33.91 12.43  3.75    74068  243787087.00 12.27  34.40   \n",
      "7   300972   万辰生物  21.90 10.94  2.16   136014  288024196.00 13.07  22.40   \n",
      "8   833509   同惠电子  14.98 10.64  1.44     6693    9938279.08 14.33  15.50   \n",
      "9   603126   中材节能   8.75 10.06  0.80   350679  302922106.00  8.43   8.75   \n",
      "10  600373   中文传媒  11.39 10.05  1.04   318510  359135857.00  4.93  11.39   \n",
      "11  688619    罗普特  16.43 10.05  1.50   123556  203387811.00 13.33  17.29   \n",
      "12  603108   润达医疗  13.26 10.04  1.21   376206  490273697.00 10.04  13.26   \n",
      "13  600072   中船科技  16.24 10.03  1.48   371648  596497066.00  3.79  16.24   \n",
      "14  002189    中光学  18.89 10.02  1.72   231082  429551088.48 10.08  18.89   \n",
      "15  002336    人人乐  15.93 10.01  1.45   501333  773864312.47  8.98  15.93   \n",
      "16  603061    金海通  92.80 10.00  8.44     1445   13410714.00  0.00  92.80   \n",
      "17  600556    天下秀   8.58 10.00  0.78  1650970 1378579865.00  6.92   8.58   \n",
      "18  001269   欧晶科技 120.12 10.00 10.92    46114  533406290.63  7.99 120.12   \n",
      "19  605398   新炬网络  34.22 10.00  3.11    36886  122608500.00  9.93  34.22   \n",
      "\n",
      "       最低     今开     昨收   量比   换手率  市盈率(动态)   市净率  \n",
      "0   57.10  57.10  58.22 5.69  6.84  -213.01 13.66  \n",
      "1   50.57  50.57  48.52 2.69 17.66   -29.86  3.97  \n",
      "2    4.96   5.00   5.14 1.59 27.57    -5.17  0.67  \n",
      "3   41.62  41.62  41.60 2.28 40.08    75.50  3.76  \n",
      "4  110.98 111.01 110.44 2.94  6.17    63.38  9.41  \n",
      "5   53.13  54.55  53.14 1.75 13.23   137.72 15.55  \n",
      "6   30.70  30.70  30.16 3.11 15.66    43.08  3.29  \n",
      "7   19.82  19.82  19.74 1.09 18.18    67.17  5.11  \n",
      "8   13.56  13.66  13.54 9.87  1.24    33.93  4.89  \n",
      "9    8.08   8.13   7.95 3.95  5.74    32.16  2.68  \n",
      "10  10.88  10.95  10.35 3.38  2.35     9.57  0.92  \n",
      "11  15.30  15.30  14.93 2.76 13.80   -14.02  2.43  \n",
      "12  12.05  12.05  12.05 6.31  6.49    18.83  2.10  \n",
      "13  15.68  15.95  14.76 1.94  5.05   147.31  3.01  \n",
      "14  17.16  17.17  17.17 4.60  8.85  -152.75  3.28  \n",
      "15  14.63  14.72  14.48 2.84 13.43   -12.62 34.81  \n",
      "16  92.80  92.80  84.36 0.18  0.96    36.17  4.19  \n",
      "17   8.04   8.09   7.80 2.44  9.13    57.02  4.09  \n",
      "18 111.40 111.58 109.20 1.18 13.42    80.07 15.61  \n",
      "19  31.13  31.27  31.11 3.15 13.67    64.76  2.87  \n"
     ]
    }
   ],
   "source": [
    "import pandas as pd\n",
    "import pymysql\n",
    "import time\n",
    "import pymysql\n",
    "import json\n",
    "import requests\n",
    "import random\n",
    "from random import randint\n",
    "pd.options.display.float_format = '{:.2f}'.format\n",
    "index_num = randint(1, 100)\n",
    "cookies = {\n",
    "    'qgqp_b_id': 'f0eeace5b28b16b04feeefce1693cb8b',\n",
    "    'HAList': 'ty-0-831906-N%u821C%u5B87%2Cty-0-000519-%u4E2D%u5175%u7EA2%u7BAD%2Cty-0-000032-%u6DF1%u6851%u8FBE%uFF21%2Cty-1-688522-%u7EB3%u777F%u96F7%u8FBE%2Cty-0-832149-N%u5229%u5C14%u8FBE%2Cty-1-688466-%u91D1%u79D1%u73AF%u5883%2Cty-1-688362-%u752C%u77FD%u7535%u5B50%2Cty-1-688292-%u6D69%u701A%u6DF1%u5EA6%2Cty-1-000001-%u4E0A%u8BC1%u6307%u6570%2Cty-1-688047-%u9F99%u82AF%u4E2D%u79D1',\n",
    "    'st_si': '87025462235082',\n",
    "    'st_asi': 'delete',\n",
    "    'st_pvi': '58485145729842',\n",
    "    'st_sp': '2023-01-17%2017%3A51%3A28',\n",
    "    'st_inirUrl': 'https%3A%2F%2Fwww.baidu.com%2Flink',\n",
    "    'st_sn': '2',\n",
    "    'st_psi': '20230223010627267-113200301321-6756937031',\n",
    "}\n",
    "\n",
    "headers = {\n",
    "    'Accept': '*/*',\n",
    "    'Accept-Language': 'zh-CN,zh;q=0.9',\n",
    "    'Connection': 'keep-alive',\n",
    "    # 'Cookie': 'qgqp_b_id=f0eeace5b28b16b04feeefce1693cb8b; HAList=ty-0-831906-N%u821C%u5B87%2Cty-0-000519-%u4E2D%u5175%u7EA2%u7BAD%2Cty-0-000032-%u6DF1%u6851%u8FBE%uFF21%2Cty-1-688522-%u7EB3%u777F%u96F7%u8FBE%2Cty-0-832149-N%u5229%u5C14%u8FBE%2Cty-1-688466-%u91D1%u79D1%u73AF%u5883%2Cty-1-688362-%u752C%u77FD%u7535%u5B50%2Cty-1-688292-%u6D69%u701A%u6DF1%u5EA6%2Cty-1-000001-%u4E0A%u8BC1%u6307%u6570%2Cty-1-688047-%u9F99%u82AF%u4E2D%u79D1; st_si=87025462235082; st_asi=delete; st_pvi=58485145729842; st_sp=2023-01-17%2017%3A51%3A28; st_inirUrl=https%3A%2F%2Fwww.baidu.com%2Flink; st_sn=2; st_psi=20230223010627267-113200301321-6756937031',\n",
    "    'Referer': 'http://quote.eastmoney.com/',\n",
    "    'User-Agent': 'Mozilla/5.0 (Macintosh; Intel Mac OS X 10_15_7) AppleWebKit/537.36 (KHTML, like Gecko) Chrome/110.0.0.0 Safari/537.36',\n",
    "}\n",
    "\n",
    "\n",
    "def spider(n):\n",
    "    # time_stamp = time.time()\n",
    "    # time_stamp = int(time_stamp*1000)\n",
    "    response = requests.get(\n",
    "        f'http://{index_num}.push2.eastmoney.com/api/qt/clist/get?cb=jQuery1124046567885410502186_{time.time() * 1000}&pn={n}&pz=20&po=1&np=1&ut=bd1d9ddb04089700cf9c27f6f7426281&fltt=2&invt=2&wbp2u=|0|0|0|web&fid=f3&fs=m:0+t:6,m:0+t:80,m:1+t:2,m:1+t:23,m:0+t:81+s:2048&fields=f1,f2,f3,f4,f5,f6,f7,f8,f9,f10,f12,f13,f14,f15,f16,f17,f18,f20,f21,f23,f24,f25,f22,f11,f62,f128,f136,f115,f152&_={time.time() * 1000}',\n",
    "        cookies=cookies,\n",
    "        headers=headers,\n",
    "        verify=False, )\n",
    "    jsondata = response.text\n",
    "    start_data = jsondata.index('{\"rc\":0,')\n",
    "    end_data = jsondata.index('}]}}') + len('}]}}')\n",
    "    data_list = json.loads(jsondata[start_data:end_data])['data']['diff']\n",
    "    df = pd.DataFrame(data_list)\n",
    "    df = df.drop(\n",
    "        ['f1', 'f13', 'f11', 'f20', 'f21', 'f22', 'f24', 'f25', 'f62', 'f115', 'f140', 'f141', 'f136', 'f152', 'f128'],\n",
    "        axis=1)\n",
    "    df.columns = ['latest_price',\n",
    "                  'rise_and_fall',\n",
    "                  'rise_and_fall_amount',\n",
    "                  'volume',\n",
    "                  'turnover',\n",
    "                  'amplitude',\n",
    "                  'turnover_rate',\n",
    "                  'ratio_pb',\n",
    "                  'volume_ratio',\n",
    "                  'code',\n",
    "                  'name',\n",
    "                  'highest',\n",
    "                  'lowest',\n",
    "                  'open_today',\n",
    "                  'yesterday',\n",
    "                  'ratio']\n",
    "    order = ['code',\n",
    "             'name',\n",
    "             'latest_price',\n",
    "             'rise_and_fall',\n",
    "             'rise_and_fall_amount',\n",
    "             'volume',\n",
    "             'turnover',\n",
    "             'amplitude',\n",
    "             'highest',\n",
    "             'lowest',\n",
    "             'open_today',\n",
    "             'yesterday',\n",
    "             'volume_ratio',\n",
    "             'turnover_rate',\n",
    "             'ratio_pb',\n",
    "             'ratio']\n",
    "    df = df[order]\n",
    "    df.columns = ['代码',\n",
    "                  '名称',\n",
    "                  '最新价',\n",
    "                  '涨跌幅',\n",
    "                  '涨跌额',\n",
    "                  '成交量(手)',\n",
    "                  '成交额',\n",
    "                  '振幅',\n",
    "                  '最高',\n",
    "                  '最低',\n",
    "                  '今开',\n",
    "                  '昨收',\n",
    "                  '量比',\n",
    "                  '换手率',\n",
    "                  '市盈率(动态)',\n",
    "                  '市净率']\n",
    "    return df\n",
    "\n",
    "\n",
    "print(spider(1))\n"
   ]
  },
  {
   "cell_type": "code",
   "execution_count": 106,
   "outputs": [],
   "source": [
    "result = spider(1)"
   ],
   "metadata": {
    "collapsed": false
   }
  },
  {
   "cell_type": "code",
   "execution_count": 107,
   "outputs": [
    {
     "data": {
      "text/plain": "        代码     名称    最新价   涨跌幅   涨跌额   成交量(手)           成交额    振幅     最高  \\\n0   688359   三孚新科  69.86 19.99 11.64    33486  220134113.00 21.92  69.86   \n1   688229   博睿数据  58.22 19.99  9.70    37189  208754255.00 15.77  58.22   \n2   688555  *ST泽达   6.10 18.68  0.96   115354   64572843.00 23.35   6.16   \n3   300964   本川智能  49.02 17.84  7.42   131889  603383338.55 19.90  49.90   \n4   688383    新益昌 126.03 14.12 15.59    18694  226142633.00 14.14 126.60   \n5   300114   中航电测  60.51 13.87  7.37   781621 4417774709.34 17.78  62.58   \n6   688117   圣诺生物  33.91 12.43  3.75    74068  243787087.00 12.27  34.40   \n7   300972   万辰生物  21.90 10.94  2.16   136014  288024196.00 13.07  22.40   \n8   833509   同惠电子  14.98 10.64  1.44     6693    9938279.08 14.33  15.50   \n9   603126   中材节能   8.75 10.06  0.80   350679  302922106.00  8.43   8.75   \n10  600373   中文传媒  11.39 10.05  1.04   318510  359135857.00  4.93  11.39   \n11  688619    罗普特  16.43 10.05  1.50   123556  203387811.00 13.33  17.29   \n12  603108   润达医疗  13.26 10.04  1.21   376206  490273697.00 10.04  13.26   \n13  600072   中船科技  16.24 10.03  1.48   371648  596497066.00  3.79  16.24   \n14  002189    中光学  18.89 10.02  1.72   231082  429551088.48 10.08  18.89   \n15  002336    人人乐  15.93 10.01  1.45   501333  773864312.47  8.98  15.93   \n16  603061    金海通  92.80 10.00  8.44     1445   13410714.00  0.00  92.80   \n17  600556    天下秀   8.58 10.00  0.78  1650970 1378579865.00  6.92   8.58   \n18  001269   欧晶科技 120.12 10.00 10.92    46114  533406290.63  7.99 120.12   \n19  605398   新炬网络  34.22 10.00  3.11    36886  122608500.00  9.93  34.22   \n\n       最低     今开     昨收   量比   换手率  市盈率(动态)   市净率  \n0   57.10  57.10  58.22 5.69  6.84  -213.01 13.66  \n1   50.57  50.57  48.52 2.69 17.66   -29.86  3.97  \n2    4.96   5.00   5.14 1.59 27.57    -5.17  0.67  \n3   41.62  41.62  41.60 2.28 40.08    75.50  3.76  \n4  110.98 111.01 110.44 2.94  6.17    63.38  9.41  \n5   53.13  54.55  53.14 1.75 13.23   137.72 15.55  \n6   30.70  30.70  30.16 3.11 15.66    43.08  3.29  \n7   19.82  19.82  19.74 1.09 18.18    67.17  5.11  \n8   13.56  13.66  13.54 9.87  1.24    33.93  4.89  \n9    8.08   8.13   7.95 3.95  5.74    32.16  2.68  \n10  10.88  10.95  10.35 3.38  2.35     9.57  0.92  \n11  15.30  15.30  14.93 2.76 13.80   -14.02  2.43  \n12  12.05  12.05  12.05 6.31  6.49    18.83  2.10  \n13  15.68  15.95  14.76 1.94  5.05   147.31  3.01  \n14  17.16  17.17  17.17 4.60  8.85  -152.75  3.28  \n15  14.63  14.72  14.48 2.84 13.43   -12.62 34.81  \n16  92.80  92.80  84.36 0.18  0.96    36.17  4.19  \n17   8.04   8.09   7.80 2.44  9.13    57.02  4.09  \n18 111.40 111.58 109.20 1.18 13.42    80.07 15.61  \n19  31.13  31.27  31.11 3.15 13.67    64.76  2.87  ",
      "text/html": "<div>\n<style scoped>\n    .dataframe tbody tr th:only-of-type {\n        vertical-align: middle;\n    }\n\n    .dataframe tbody tr th {\n        vertical-align: top;\n    }\n\n    .dataframe thead th {\n        text-align: right;\n    }\n</style>\n<table border=\"1\" class=\"dataframe\">\n  <thead>\n    <tr style=\"text-align: right;\">\n      <th></th>\n      <th>代码</th>\n      <th>名称</th>\n      <th>最新价</th>\n      <th>涨跌幅</th>\n      <th>涨跌额</th>\n      <th>成交量(手)</th>\n      <th>成交额</th>\n      <th>振幅</th>\n      <th>最高</th>\n      <th>最低</th>\n      <th>今开</th>\n      <th>昨收</th>\n      <th>量比</th>\n      <th>换手率</th>\n      <th>市盈率(动态)</th>\n      <th>市净率</th>\n    </tr>\n  </thead>\n  <tbody>\n    <tr>\n      <th>0</th>\n      <td>688359</td>\n      <td>三孚新科</td>\n      <td>69.86</td>\n      <td>19.99</td>\n      <td>11.64</td>\n      <td>33486</td>\n      <td>220134113.00</td>\n      <td>21.92</td>\n      <td>69.86</td>\n      <td>57.10</td>\n      <td>57.10</td>\n      <td>58.22</td>\n      <td>5.69</td>\n      <td>6.84</td>\n      <td>-213.01</td>\n      <td>13.66</td>\n    </tr>\n    <tr>\n      <th>1</th>\n      <td>688229</td>\n      <td>博睿数据</td>\n      <td>58.22</td>\n      <td>19.99</td>\n      <td>9.70</td>\n      <td>37189</td>\n      <td>208754255.00</td>\n      <td>15.77</td>\n      <td>58.22</td>\n      <td>50.57</td>\n      <td>50.57</td>\n      <td>48.52</td>\n      <td>2.69</td>\n      <td>17.66</td>\n      <td>-29.86</td>\n      <td>3.97</td>\n    </tr>\n    <tr>\n      <th>2</th>\n      <td>688555</td>\n      <td>*ST泽达</td>\n      <td>6.10</td>\n      <td>18.68</td>\n      <td>0.96</td>\n      <td>115354</td>\n      <td>64572843.00</td>\n      <td>23.35</td>\n      <td>6.16</td>\n      <td>4.96</td>\n      <td>5.00</td>\n      <td>5.14</td>\n      <td>1.59</td>\n      <td>27.57</td>\n      <td>-5.17</td>\n      <td>0.67</td>\n    </tr>\n    <tr>\n      <th>3</th>\n      <td>300964</td>\n      <td>本川智能</td>\n      <td>49.02</td>\n      <td>17.84</td>\n      <td>7.42</td>\n      <td>131889</td>\n      <td>603383338.55</td>\n      <td>19.90</td>\n      <td>49.90</td>\n      <td>41.62</td>\n      <td>41.62</td>\n      <td>41.60</td>\n      <td>2.28</td>\n      <td>40.08</td>\n      <td>75.50</td>\n      <td>3.76</td>\n    </tr>\n    <tr>\n      <th>4</th>\n      <td>688383</td>\n      <td>新益昌</td>\n      <td>126.03</td>\n      <td>14.12</td>\n      <td>15.59</td>\n      <td>18694</td>\n      <td>226142633.00</td>\n      <td>14.14</td>\n      <td>126.60</td>\n      <td>110.98</td>\n      <td>111.01</td>\n      <td>110.44</td>\n      <td>2.94</td>\n      <td>6.17</td>\n      <td>63.38</td>\n      <td>9.41</td>\n    </tr>\n    <tr>\n      <th>5</th>\n      <td>300114</td>\n      <td>中航电测</td>\n      <td>60.51</td>\n      <td>13.87</td>\n      <td>7.37</td>\n      <td>781621</td>\n      <td>4417774709.34</td>\n      <td>17.78</td>\n      <td>62.58</td>\n      <td>53.13</td>\n      <td>54.55</td>\n      <td>53.14</td>\n      <td>1.75</td>\n      <td>13.23</td>\n      <td>137.72</td>\n      <td>15.55</td>\n    </tr>\n    <tr>\n      <th>6</th>\n      <td>688117</td>\n      <td>圣诺生物</td>\n      <td>33.91</td>\n      <td>12.43</td>\n      <td>3.75</td>\n      <td>74068</td>\n      <td>243787087.00</td>\n      <td>12.27</td>\n      <td>34.40</td>\n      <td>30.70</td>\n      <td>30.70</td>\n      <td>30.16</td>\n      <td>3.11</td>\n      <td>15.66</td>\n      <td>43.08</td>\n      <td>3.29</td>\n    </tr>\n    <tr>\n      <th>7</th>\n      <td>300972</td>\n      <td>万辰生物</td>\n      <td>21.90</td>\n      <td>10.94</td>\n      <td>2.16</td>\n      <td>136014</td>\n      <td>288024196.00</td>\n      <td>13.07</td>\n      <td>22.40</td>\n      <td>19.82</td>\n      <td>19.82</td>\n      <td>19.74</td>\n      <td>1.09</td>\n      <td>18.18</td>\n      <td>67.17</td>\n      <td>5.11</td>\n    </tr>\n    <tr>\n      <th>8</th>\n      <td>833509</td>\n      <td>同惠电子</td>\n      <td>14.98</td>\n      <td>10.64</td>\n      <td>1.44</td>\n      <td>6693</td>\n      <td>9938279.08</td>\n      <td>14.33</td>\n      <td>15.50</td>\n      <td>13.56</td>\n      <td>13.66</td>\n      <td>13.54</td>\n      <td>9.87</td>\n      <td>1.24</td>\n      <td>33.93</td>\n      <td>4.89</td>\n    </tr>\n    <tr>\n      <th>9</th>\n      <td>603126</td>\n      <td>中材节能</td>\n      <td>8.75</td>\n      <td>10.06</td>\n      <td>0.80</td>\n      <td>350679</td>\n      <td>302922106.00</td>\n      <td>8.43</td>\n      <td>8.75</td>\n      <td>8.08</td>\n      <td>8.13</td>\n      <td>7.95</td>\n      <td>3.95</td>\n      <td>5.74</td>\n      <td>32.16</td>\n      <td>2.68</td>\n    </tr>\n    <tr>\n      <th>10</th>\n      <td>600373</td>\n      <td>中文传媒</td>\n      <td>11.39</td>\n      <td>10.05</td>\n      <td>1.04</td>\n      <td>318510</td>\n      <td>359135857.00</td>\n      <td>4.93</td>\n      <td>11.39</td>\n      <td>10.88</td>\n      <td>10.95</td>\n      <td>10.35</td>\n      <td>3.38</td>\n      <td>2.35</td>\n      <td>9.57</td>\n      <td>0.92</td>\n    </tr>\n    <tr>\n      <th>11</th>\n      <td>688619</td>\n      <td>罗普特</td>\n      <td>16.43</td>\n      <td>10.05</td>\n      <td>1.50</td>\n      <td>123556</td>\n      <td>203387811.00</td>\n      <td>13.33</td>\n      <td>17.29</td>\n      <td>15.30</td>\n      <td>15.30</td>\n      <td>14.93</td>\n      <td>2.76</td>\n      <td>13.80</td>\n      <td>-14.02</td>\n      <td>2.43</td>\n    </tr>\n    <tr>\n      <th>12</th>\n      <td>603108</td>\n      <td>润达医疗</td>\n      <td>13.26</td>\n      <td>10.04</td>\n      <td>1.21</td>\n      <td>376206</td>\n      <td>490273697.00</td>\n      <td>10.04</td>\n      <td>13.26</td>\n      <td>12.05</td>\n      <td>12.05</td>\n      <td>12.05</td>\n      <td>6.31</td>\n      <td>6.49</td>\n      <td>18.83</td>\n      <td>2.10</td>\n    </tr>\n    <tr>\n      <th>13</th>\n      <td>600072</td>\n      <td>中船科技</td>\n      <td>16.24</td>\n      <td>10.03</td>\n      <td>1.48</td>\n      <td>371648</td>\n      <td>596497066.00</td>\n      <td>3.79</td>\n      <td>16.24</td>\n      <td>15.68</td>\n      <td>15.95</td>\n      <td>14.76</td>\n      <td>1.94</td>\n      <td>5.05</td>\n      <td>147.31</td>\n      <td>3.01</td>\n    </tr>\n    <tr>\n      <th>14</th>\n      <td>002189</td>\n      <td>中光学</td>\n      <td>18.89</td>\n      <td>10.02</td>\n      <td>1.72</td>\n      <td>231082</td>\n      <td>429551088.48</td>\n      <td>10.08</td>\n      <td>18.89</td>\n      <td>17.16</td>\n      <td>17.17</td>\n      <td>17.17</td>\n      <td>4.60</td>\n      <td>8.85</td>\n      <td>-152.75</td>\n      <td>3.28</td>\n    </tr>\n    <tr>\n      <th>15</th>\n      <td>002336</td>\n      <td>人人乐</td>\n      <td>15.93</td>\n      <td>10.01</td>\n      <td>1.45</td>\n      <td>501333</td>\n      <td>773864312.47</td>\n      <td>8.98</td>\n      <td>15.93</td>\n      <td>14.63</td>\n      <td>14.72</td>\n      <td>14.48</td>\n      <td>2.84</td>\n      <td>13.43</td>\n      <td>-12.62</td>\n      <td>34.81</td>\n    </tr>\n    <tr>\n      <th>16</th>\n      <td>603061</td>\n      <td>金海通</td>\n      <td>92.80</td>\n      <td>10.00</td>\n      <td>8.44</td>\n      <td>1445</td>\n      <td>13410714.00</td>\n      <td>0.00</td>\n      <td>92.80</td>\n      <td>92.80</td>\n      <td>92.80</td>\n      <td>84.36</td>\n      <td>0.18</td>\n      <td>0.96</td>\n      <td>36.17</td>\n      <td>4.19</td>\n    </tr>\n    <tr>\n      <th>17</th>\n      <td>600556</td>\n      <td>天下秀</td>\n      <td>8.58</td>\n      <td>10.00</td>\n      <td>0.78</td>\n      <td>1650970</td>\n      <td>1378579865.00</td>\n      <td>6.92</td>\n      <td>8.58</td>\n      <td>8.04</td>\n      <td>8.09</td>\n      <td>7.80</td>\n      <td>2.44</td>\n      <td>9.13</td>\n      <td>57.02</td>\n      <td>4.09</td>\n    </tr>\n    <tr>\n      <th>18</th>\n      <td>001269</td>\n      <td>欧晶科技</td>\n      <td>120.12</td>\n      <td>10.00</td>\n      <td>10.92</td>\n      <td>46114</td>\n      <td>533406290.63</td>\n      <td>7.99</td>\n      <td>120.12</td>\n      <td>111.40</td>\n      <td>111.58</td>\n      <td>109.20</td>\n      <td>1.18</td>\n      <td>13.42</td>\n      <td>80.07</td>\n      <td>15.61</td>\n    </tr>\n    <tr>\n      <th>19</th>\n      <td>605398</td>\n      <td>新炬网络</td>\n      <td>34.22</td>\n      <td>10.00</td>\n      <td>3.11</td>\n      <td>36886</td>\n      <td>122608500.00</td>\n      <td>9.93</td>\n      <td>34.22</td>\n      <td>31.13</td>\n      <td>31.27</td>\n      <td>31.11</td>\n      <td>3.15</td>\n      <td>13.67</td>\n      <td>64.76</td>\n      <td>2.87</td>\n    </tr>\n  </tbody>\n</table>\n</div>"
     },
     "execution_count": 107,
     "metadata": {},
     "output_type": "execute_result"
    }
   ],
   "source": [
    "result"
   ],
   "metadata": {
    "collapsed": false
   }
  },
  {
   "cell_type": "code",
   "execution_count": 107,
   "outputs": [],
   "source": [],
   "metadata": {
    "collapsed": false
   }
  },
  {
   "cell_type": "code",
   "execution_count": 7,
   "outputs": [
    {
     "name": "stdout",
     "output_type": "stream",
     "text": [
      "        ts_code exchange  reg_capital setup_date province city  \\\n",
      "0     603776.SH      SSE   23265.4955   20100824       江苏  常州市   \n",
      "1     301133.SZ     SZSE   10609.6616   20040531       广东  广州市   \n",
      "2     300374.SZ     SZSE   24591.2337   20060831       北京  北京市   \n",
      "3     300428.SZ     SZSE   61695.6965   19980728       河北  保定市   \n",
      "4     688273.SH      SSE   10000.0000   20130116       江苏  南京市   \n",
      "...         ...      ...          ...        ...      ...  ...   \n",
      "5322  603707.SH      SSE  161707.4876   20001016       江苏  南京市   \n",
      "5323  001260.SZ     SZSE   11500.0000   20091216       山东  烟台市   \n",
      "5324  002656.SZ     SZSE   71251.9844   20020718       广东  广州市   \n",
      "5325  301058.SZ     SZSE   51227.4245   19930331       江苏  无锡市   \n",
      "5326  301042.SZ     SZSE    6885.0000   20070806       广东  珠海市   \n",
      "\n",
      "                                           introduction  \\\n",
      "0     公司致力于做国际领先的城市绿色交通系统的供应商及运营商，通过物联网技术及大数据平台为城市提供...   \n",
      "1     公司是一家专业从事汽车内外饰件设计、开发、生产和销售的高新技术企业，主要产品包括汽车轮毂装饰...   \n",
      "2     公司是一家集木塑新材料研发、生产、销售为一体的高新技术企业，主要从事以无机集料阻燃木塑复合墙...   \n",
      "3     公司始创于1984年，2015年在深交所创业板挂牌上市，总部位于河北保定，紧邻雄安新区，是国...   \n",
      "4     公司主要从事盆底及产后康复领域相关产品的研发、生产、销售和服务，相关产品主要有盆底及产后康复...   \n",
      "...                                                 ...   \n",
      "5322  公司位于南京高新技术产业开发区内，为江苏省、南京市高新技术企业，中国医药保健品进出口商会肝素...   \n",
      "5323  公司主营业务为汽车内饰件材料及产品的研发、生产和销售，主要产品包括汽车地毯和汽车脚垫两大类，...   \n",
      "5324  公司是一家全球时尚品牌运营商。集团主营业务聚焦服饰箱包、护肤美妆、珠宝配饰等领域。集团以自主...   \n",
      "5325  中粮工科是为小麦、稻米、油脂、玉米及饲料加工行业、粮食物流行业、农产品储藏行业、冷链仓储物流...   \n",
      "5326  公司自成立以来专注于安防视频监控产品软硬件的研发、生产与销售，是我国安防视频监控产品的重要制...   \n",
      "\n",
      "                              website  \\\n",
      "0                    www.ibike668.com   \n",
      "1                   www.gzjz-auto.com   \n",
      "2     www.htcxms.com;www.crpcc.com.cn   \n",
      "3                www.lizhonggroup.com   \n",
      "4                   www.medlander.com   \n",
      "...                               ...   \n",
      "5322               www.nkf-pharma.com   \n",
      "5323              www.chinakuntai.com   \n",
      "5324        www.modernavenuegroup.com   \n",
      "5325                  www.cofcoet.com   \n",
      "5326                  www.raysharp.cn   \n",
      "\n",
      "                                         business_scope  employees  \\\n",
      "0     公共自行车系统的开发、制造、集成、安装、调试、销售及公共自行车系统信息技术服务，运营管理服务...     5019.0   \n",
      "1     塑料制品批发;技术进出口;汽车零部件及配件制造(不含汽车发动机制造);塑料零件制造;五金配件...     1513.0   \n",
      "2     一般项目：技术服务、技术开发、技术咨询、技术交流、技术转让、技术推广；机械设备销售；模具销售...      477.0   \n",
      "3     其他有色金属压延加工。铝基中间合金、铜基中间合金、铁基中间合金、镍基中间合金、锌基中间合金、...     9142.0   \n",
      "4     许可项目：第二类医疗器械生产；第三类医疗器械生产；第三类医疗器械经营；医疗器械互联网信息服务...      479.0   \n",
      "...                                                 ...        ...   \n",
      "5322  许可项目:药品批发；药品生产；药品零售(依法须经批准的项目，经相关部门批准后方可开展经营活动...     1006.0   \n",
      "5323  地毯、脚垫、汽车内饰的设计、制造、销售及技术研究；纺织品、塑料原料、金属材料及制品的批发、零...      358.0   \n",
      "5324  一般经营项目：软件服务；企业管理服务(涉及许可经营项目的除外)；网络技术的研究、开发；软件开...      489.0   \n",
      "5325  许可项目：建设工程设计；建设工程监理；粮食加工食品生产；电气安装服务；检验检测服务；建筑智能...     2266.0   \n",
      "5326  安防产品的生产、销售、安装、维修(凭资格证经营)；软件开发与销售；电子类产品的生产、销售；网...     1480.0   \n",
      "\n",
      "                                          main_business  \n",
      "0         主要产品:全套公共自行车系统.主营业务:公共自行车系统的研发,销售,建设,运营为核心业务.  \n",
      "1     公司是一家专业从事汽车内外饰件设计,开发,生产和销售的高新技术企业,主要产品包括汽车轮毂装饰...  \n",
      "2     主营业务为主要从事以无机集料阻燃木塑复合墙板为核心产品的,可循环再利用新型建筑材料的研发,生...  \n",
      "3                     主营业务;功能性中间合金新材料和铝合金车轮轻量化的研发,生产,销售  \n",
      "4     主营业务是盆底及产后康复领域相关产品的研发,生产,销售和服务,相关产品主要有盆底及产后康复设...  \n",
      "...                                                 ...  \n",
      "5322    主营业务:药品原料,制剂的研发,生产和销售;主要产品:标准肝素原料,低分子肝素原料及其制剂等.  \n",
      "5323  公司主营业务为汽车内饰件材料及产品的研发,生产和销售,主要产品包括汽车地毯和汽车脚垫两大类,...  \n",
      "5324  主营业务:高级男装服饰的研发设计,品牌推广和零售管理.主要产品是主要经营卡奴迪路(CANUD...  \n",
      "5325    主营业务主要分为设计咨询,机电工程系统交付和工程承包等专业工程服务业务板块以及设备制造业务板块  \n",
      "5326                          前端摄像机,后端硬盘录像机的软硬件研发,生产与销售  \n",
      "\n",
      "[5327 rows x 11 columns]\n"
     ]
    }
   ],
   "source": [
    "\n",
    "# 导入tushare\n",
    "import tushare as ts\n",
    "# 初始化pro接口\n",
    "pro = ts.pro_api('55e32ea804a9a5eb666d9a47c2203377e0b2bc3751b16132a916ef4e')\n",
    "\n",
    "# 拉取数据\n",
    "df = pro.stock_company(**{\n",
    "    \"ts_code\": \"\",\n",
    "    \"exchange\": \"\",\n",
    "    \"status\": \"\",\n",
    "    \"limit\": \"\",\n",
    "    \"offset\": \"\"\n",
    "}, fields=[\n",
    "    \"ts_code\",\n",
    "    \"exchange\",\n",
    "    \"reg_capital\",\n",
    "    \"setup_date\",\n",
    "    \"province\",\n",
    "    \"city\",\n",
    "    \"website\",\n",
    "    \"employees\",\n",
    "    \"introduction\",\n",
    "    \"business_scope\",\n",
    "    \"main_business\"\n",
    "])\n",
    "print(df)\n",
    "\n",
    "df.to_csv(\"D:\\gpweb\\myweb\\static/stock_company.csv\",index=False,encoding='utf-8')\n"
   ],
   "metadata": {
    "collapsed": false
   }
  },
  {
   "cell_type": "code",
   "execution_count": null,
   "outputs": [],
   "source": [],
   "metadata": {
    "collapsed": false
   }
  },
  {
   "cell_type": "code",
   "execution_count": 3,
   "outputs": [],
   "source": [
    "import pandas as pd"
   ],
   "metadata": {
    "collapsed": false
   }
  },
  {
   "cell_type": "code",
   "execution_count": 10,
   "outputs": [],
   "source": [
    "df1 = pd.read_csv('myweb/static/tushare_stock_basic.csv')"
   ],
   "metadata": {
    "collapsed": false
   }
  },
  {
   "cell_type": "code",
   "execution_count": 16,
   "outputs": [],
   "source": [
    "df3 = pd.merge(df1,df,how='inner',on='ts_code')"
   ],
   "metadata": {
    "collapsed": false
   }
  },
  {
   "cell_type": "code",
   "execution_count": 17,
   "outputs": [
    {
     "data": {
      "text/plain": "        ts_code  symbol     name area industry         fullname market  \\\n0     000001.SZ       1     平安银行   深圳       银行       平安银行股份有限公司     主板   \n1     000002.SZ       2      万科A   深圳     全国地产       万科企业股份有限公司     主板   \n2     000005.SZ       5     ST星源   深圳     环境保护     深圳世纪星源股份有限公司     主板   \n3     000006.SZ       6     深振业A   深圳     区域地产  深圳市振业(集团)股份有限公司     主板   \n4     000008.SZ       8     神州高铁   北京     运输设备     神州高铁技术股份有限公司     主板   \n...         ...     ...      ...  ...      ...              ...    ...   \n4266  871553.BJ  871553     凯腾精工  NaN      NaN   北京凯腾精工制版股份有限公司    北交所   \n4267  871642.BJ  871642     通易航天  NaN      NaN   南通通易航天科技股份有限公司    北交所   \n4268  871981.BJ  871981     晶赛科技  NaN      NaN     安徽晶赛科技股份有限公司    北交所   \n4269  872925.BJ  872925     锦好医疗  NaN      NaN  惠州市锦好医疗科技股份有限公司    北交所   \n4270  689009.SH  689009  九号公司-WD   北京      摩托车           九号有限公司    CDR   \n\n      list_date exchange   reg_capital setup_date province  city  \\\n0      19910403     SZSE  1.940592e+06   19871222       广东   深圳市   \n1      19910129     SZSE  1.163071e+06   19840530       广东   深圳市   \n2      19901210     SZSE  1.058537e+05   19890508       广东   深圳市   \n3      19920427     SZSE  1.349995e+05   19890525       广东   深圳市   \n4      19920507     SZSE  2.716378e+05   19891011       北京   北京市   \n...         ...      ...           ...        ...      ...   ...   \n4266   20210806     None  1.436905e+04   20030927       北京   北京市   \n4267   20210816     None  1.036703e+04   20080320       江苏   南通市   \n4268   20211115     None  7.646800e+03   20050120       安徽   铜陵市   \n4269   20211025     None  4.927500e+03   20110831       广东   惠州市   \n4270   20201029      SSE  7.144436e+03   20141210     None  None   \n\n                                           introduction  \\\n0     公司是深圳发展银行股份有限公司以吸收合并原平安银行股份有限公司的方式完成两行整合并更名后的银...   \n1     公司成立于1984年，1988年进入房地产行业，经过三十余年的发展，已成为国内领先的城市配套...   \n2     公司是中国早期大规模介入酒店式公寓服务业的公司之一，中国早期上市的公司之一。公司从事的主要业...   \n3     公司是深圳市国有资产监督管理委员会直管的国有上市公司，公司以房地产开发经营为主营业务，具备国...   \n4     公司创建于1997年，2014年重组上市后更名为神州高铁技术股份有限公司。在自身发展的基础上...   \n...                                                 ...   \n4266  公司主要从事凹印印版的研发、生产和销售业务，通过向下游印刷厂商销售版辊等产品实现收入和利润。...   \n4267  公司主营业务为军用特种航空制品以及聚氨酯、碳纤维等新材料制品的研发、生产和销售。公司产品主要...   \n4268  公司主要从事石英晶振及封装材料的设计、研发、生产及销售，系国家高新技术企业、安徽省创新型企业...   \n4269  公司主要从事康复医疗器械和家用医疗器械的研发、生产和销售，主要产品包括：助听器、雾化器、防褥...   \n4270  公司是专注于智能短交通和服务类机器人领域的创新企业。公司主营业务为各类智能短程移动设备的设计...   \n\n                                                website  \\\n0                                       bank.pingan.com   \n1                                         www.vanke.com   \n2                                   www.fountain.com.cn   \n3                                        www.zhenye.com   \n4                               www.shenzhou-gaotie.com   \n...                                                 ...   \n4266                                    www.ktjg.com.cn   \n4267                                               None   \n4268                                      www.tljsjm.cn   \n4269                                     www.jinghao.cc   \n4270  www.segway.com;www.ninebot.com;www.segwayrobot...   \n\n                                         business_scope  employees  \\\n0     (一)吸收公众存款；(二)发放短期、中期和长期贷款；(三)办理国内外结算；(四)办理票据承兑...    40651.0   \n1     房地产开发；兴办实业(具体项目另行申报)；国内商业、物资供销业(不含专营、专控、专卖商品)；...   139494.0   \n2                房地产、酒店、物业管理、商务咨询、顾问、计算机软件开发、投资及其它第三产业。      563.0   \n3                     土地开发、房产销售及租赁、物业管理。本公司主业为房地产开发与经营。      403.0   \n4     技术服务、技术开发、技术咨询、技术交流、技术转让、技术推广；轨道交通专用设备、关键系统及部件...     2240.0   \n...                                                 ...        ...   \n4266  销售印刷设备、印刷制版工具及原辅材料；技术服务、技术咨询；汽车租赁。(企业依法自主选择经营项...     1067.0   \n4267  橡塑制品、纤维增强塑料制品、特种纺织品、个体防护救生装备、轻型保护头盔系列产品的研发、制造、...      189.0   \n4268  石英晶体元器件、电子元器件、电子元器件封装元件、石英晶片的研发、制造、销售，智能装备、仪器研...      736.0   \n4269  生产、加工、销售：电子产品：听觉检查音叉、听力计、耳声发射仪、耳声阻抗测量仪、植入式骨导助听...      364.0   \n4270  自公司成立以来，智能电动平衡车系列是公司的核心产品，按照产品形态分类可以分为智能电动单轮平衡...     3523.0   \n\n                                          main_business  \n0                              主要业务:贷款,拆借,存放等同业业务,债券投资.  \n1                                            房地产开发和物业服务  \n2     主要业务:交通及基础设施经营,低碳技术集成和环境处理服务,不动产开发管理及工程监理,酒店经营...  \n3                         主要产品或提供的服务:提供商品住宅,以及提供物业租赁服务.  \n4                                        主营业务:轨道交通,酒店服务  \n...                                                 ...  \n4266                             印刷行业中重要耗材凹印印版的研发,生产和销售  \n4267  公司主要从事军用特种航空制品以及聚氨酯,碳纤维等材料制品的研发,生产和销售,主要产品包括航空...  \n4268  石英晶体元器件,电子元器件,电子元器件封装元件,石英晶片的研发,制造,销售,智能装备,仪器的...  \n4269                             康复医疗器械和家用医疗器械的研发,生产及销售  \n4270  主营业务为各类智能短程移动设备的设计,研发,生产,销售及服务.公司主要产品分为智能电动平衡车...  \n\n[4271 rows x 18 columns]",
      "text/html": "<div>\n<style scoped>\n    .dataframe tbody tr th:only-of-type {\n        vertical-align: middle;\n    }\n\n    .dataframe tbody tr th {\n        vertical-align: top;\n    }\n\n    .dataframe thead th {\n        text-align: right;\n    }\n</style>\n<table border=\"1\" class=\"dataframe\">\n  <thead>\n    <tr style=\"text-align: right;\">\n      <th></th>\n      <th>ts_code</th>\n      <th>symbol</th>\n      <th>name</th>\n      <th>area</th>\n      <th>industry</th>\n      <th>fullname</th>\n      <th>market</th>\n      <th>list_date</th>\n      <th>exchange</th>\n      <th>reg_capital</th>\n      <th>setup_date</th>\n      <th>province</th>\n      <th>city</th>\n      <th>introduction</th>\n      <th>website</th>\n      <th>business_scope</th>\n      <th>employees</th>\n      <th>main_business</th>\n    </tr>\n  </thead>\n  <tbody>\n    <tr>\n      <th>0</th>\n      <td>000001.SZ</td>\n      <td>1</td>\n      <td>平安银行</td>\n      <td>深圳</td>\n      <td>银行</td>\n      <td>平安银行股份有限公司</td>\n      <td>主板</td>\n      <td>19910403</td>\n      <td>SZSE</td>\n      <td>1.940592e+06</td>\n      <td>19871222</td>\n      <td>广东</td>\n      <td>深圳市</td>\n      <td>公司是深圳发展银行股份有限公司以吸收合并原平安银行股份有限公司的方式完成两行整合并更名后的银...</td>\n      <td>bank.pingan.com</td>\n      <td>(一)吸收公众存款；(二)发放短期、中期和长期贷款；(三)办理国内外结算；(四)办理票据承兑...</td>\n      <td>40651.0</td>\n      <td>主要业务:贷款,拆借,存放等同业业务,债券投资.</td>\n    </tr>\n    <tr>\n      <th>1</th>\n      <td>000002.SZ</td>\n      <td>2</td>\n      <td>万科A</td>\n      <td>深圳</td>\n      <td>全国地产</td>\n      <td>万科企业股份有限公司</td>\n      <td>主板</td>\n      <td>19910129</td>\n      <td>SZSE</td>\n      <td>1.163071e+06</td>\n      <td>19840530</td>\n      <td>广东</td>\n      <td>深圳市</td>\n      <td>公司成立于1984年，1988年进入房地产行业，经过三十余年的发展，已成为国内领先的城市配套...</td>\n      <td>www.vanke.com</td>\n      <td>房地产开发；兴办实业(具体项目另行申报)；国内商业、物资供销业(不含专营、专控、专卖商品)；...</td>\n      <td>139494.0</td>\n      <td>房地产开发和物业服务</td>\n    </tr>\n    <tr>\n      <th>2</th>\n      <td>000005.SZ</td>\n      <td>5</td>\n      <td>ST星源</td>\n      <td>深圳</td>\n      <td>环境保护</td>\n      <td>深圳世纪星源股份有限公司</td>\n      <td>主板</td>\n      <td>19901210</td>\n      <td>SZSE</td>\n      <td>1.058537e+05</td>\n      <td>19890508</td>\n      <td>广东</td>\n      <td>深圳市</td>\n      <td>公司是中国早期大规模介入酒店式公寓服务业的公司之一，中国早期上市的公司之一。公司从事的主要业...</td>\n      <td>www.fountain.com.cn</td>\n      <td>房地产、酒店、物业管理、商务咨询、顾问、计算机软件开发、投资及其它第三产业。</td>\n      <td>563.0</td>\n      <td>主要业务:交通及基础设施经营,低碳技术集成和环境处理服务,不动产开发管理及工程监理,酒店经营...</td>\n    </tr>\n    <tr>\n      <th>3</th>\n      <td>000006.SZ</td>\n      <td>6</td>\n      <td>深振业A</td>\n      <td>深圳</td>\n      <td>区域地产</td>\n      <td>深圳市振业(集团)股份有限公司</td>\n      <td>主板</td>\n      <td>19920427</td>\n      <td>SZSE</td>\n      <td>1.349995e+05</td>\n      <td>19890525</td>\n      <td>广东</td>\n      <td>深圳市</td>\n      <td>公司是深圳市国有资产监督管理委员会直管的国有上市公司，公司以房地产开发经营为主营业务，具备国...</td>\n      <td>www.zhenye.com</td>\n      <td>土地开发、房产销售及租赁、物业管理。本公司主业为房地产开发与经营。</td>\n      <td>403.0</td>\n      <td>主要产品或提供的服务:提供商品住宅,以及提供物业租赁服务.</td>\n    </tr>\n    <tr>\n      <th>4</th>\n      <td>000008.SZ</td>\n      <td>8</td>\n      <td>神州高铁</td>\n      <td>北京</td>\n      <td>运输设备</td>\n      <td>神州高铁技术股份有限公司</td>\n      <td>主板</td>\n      <td>19920507</td>\n      <td>SZSE</td>\n      <td>2.716378e+05</td>\n      <td>19891011</td>\n      <td>北京</td>\n      <td>北京市</td>\n      <td>公司创建于1997年，2014年重组上市后更名为神州高铁技术股份有限公司。在自身发展的基础上...</td>\n      <td>www.shenzhou-gaotie.com</td>\n      <td>技术服务、技术开发、技术咨询、技术交流、技术转让、技术推广；轨道交通专用设备、关键系统及部件...</td>\n      <td>2240.0</td>\n      <td>主营业务:轨道交通,酒店服务</td>\n    </tr>\n    <tr>\n      <th>...</th>\n      <td>...</td>\n      <td>...</td>\n      <td>...</td>\n      <td>...</td>\n      <td>...</td>\n      <td>...</td>\n      <td>...</td>\n      <td>...</td>\n      <td>...</td>\n      <td>...</td>\n      <td>...</td>\n      <td>...</td>\n      <td>...</td>\n      <td>...</td>\n      <td>...</td>\n      <td>...</td>\n      <td>...</td>\n      <td>...</td>\n    </tr>\n    <tr>\n      <th>4266</th>\n      <td>871553.BJ</td>\n      <td>871553</td>\n      <td>凯腾精工</td>\n      <td>NaN</td>\n      <td>NaN</td>\n      <td>北京凯腾精工制版股份有限公司</td>\n      <td>北交所</td>\n      <td>20210806</td>\n      <td>None</td>\n      <td>1.436905e+04</td>\n      <td>20030927</td>\n      <td>北京</td>\n      <td>北京市</td>\n      <td>公司主要从事凹印印版的研发、生产和销售业务，通过向下游印刷厂商销售版辊等产品实现收入和利润。...</td>\n      <td>www.ktjg.com.cn</td>\n      <td>销售印刷设备、印刷制版工具及原辅材料；技术服务、技术咨询；汽车租赁。(企业依法自主选择经营项...</td>\n      <td>1067.0</td>\n      <td>印刷行业中重要耗材凹印印版的研发,生产和销售</td>\n    </tr>\n    <tr>\n      <th>4267</th>\n      <td>871642.BJ</td>\n      <td>871642</td>\n      <td>通易航天</td>\n      <td>NaN</td>\n      <td>NaN</td>\n      <td>南通通易航天科技股份有限公司</td>\n      <td>北交所</td>\n      <td>20210816</td>\n      <td>None</td>\n      <td>1.036703e+04</td>\n      <td>20080320</td>\n      <td>江苏</td>\n      <td>南通市</td>\n      <td>公司主营业务为军用特种航空制品以及聚氨酯、碳纤维等新材料制品的研发、生产和销售。公司产品主要...</td>\n      <td>None</td>\n      <td>橡塑制品、纤维增强塑料制品、特种纺织品、个体防护救生装备、轻型保护头盔系列产品的研发、制造、...</td>\n      <td>189.0</td>\n      <td>公司主要从事军用特种航空制品以及聚氨酯,碳纤维等材料制品的研发,生产和销售,主要产品包括航空...</td>\n    </tr>\n    <tr>\n      <th>4268</th>\n      <td>871981.BJ</td>\n      <td>871981</td>\n      <td>晶赛科技</td>\n      <td>NaN</td>\n      <td>NaN</td>\n      <td>安徽晶赛科技股份有限公司</td>\n      <td>北交所</td>\n      <td>20211115</td>\n      <td>None</td>\n      <td>7.646800e+03</td>\n      <td>20050120</td>\n      <td>安徽</td>\n      <td>铜陵市</td>\n      <td>公司主要从事石英晶振及封装材料的设计、研发、生产及销售，系国家高新技术企业、安徽省创新型企业...</td>\n      <td>www.tljsjm.cn</td>\n      <td>石英晶体元器件、电子元器件、电子元器件封装元件、石英晶片的研发、制造、销售，智能装备、仪器研...</td>\n      <td>736.0</td>\n      <td>石英晶体元器件,电子元器件,电子元器件封装元件,石英晶片的研发,制造,销售,智能装备,仪器的...</td>\n    </tr>\n    <tr>\n      <th>4269</th>\n      <td>872925.BJ</td>\n      <td>872925</td>\n      <td>锦好医疗</td>\n      <td>NaN</td>\n      <td>NaN</td>\n      <td>惠州市锦好医疗科技股份有限公司</td>\n      <td>北交所</td>\n      <td>20211025</td>\n      <td>None</td>\n      <td>4.927500e+03</td>\n      <td>20110831</td>\n      <td>广东</td>\n      <td>惠州市</td>\n      <td>公司主要从事康复医疗器械和家用医疗器械的研发、生产和销售，主要产品包括：助听器、雾化器、防褥...</td>\n      <td>www.jinghao.cc</td>\n      <td>生产、加工、销售：电子产品：听觉检查音叉、听力计、耳声发射仪、耳声阻抗测量仪、植入式骨导助听...</td>\n      <td>364.0</td>\n      <td>康复医疗器械和家用医疗器械的研发,生产及销售</td>\n    </tr>\n    <tr>\n      <th>4270</th>\n      <td>689009.SH</td>\n      <td>689009</td>\n      <td>九号公司-WD</td>\n      <td>北京</td>\n      <td>摩托车</td>\n      <td>九号有限公司</td>\n      <td>CDR</td>\n      <td>20201029</td>\n      <td>SSE</td>\n      <td>7.144436e+03</td>\n      <td>20141210</td>\n      <td>None</td>\n      <td>None</td>\n      <td>公司是专注于智能短交通和服务类机器人领域的创新企业。公司主营业务为各类智能短程移动设备的设计...</td>\n      <td>www.segway.com;www.ninebot.com;www.segwayrobot...</td>\n      <td>自公司成立以来，智能电动平衡车系列是公司的核心产品，按照产品形态分类可以分为智能电动单轮平衡...</td>\n      <td>3523.0</td>\n      <td>主营业务为各类智能短程移动设备的设计,研发,生产,销售及服务.公司主要产品分为智能电动平衡车...</td>\n    </tr>\n  </tbody>\n</table>\n<p>4271 rows × 18 columns</p>\n</div>"
     },
     "execution_count": 17,
     "metadata": {},
     "output_type": "execute_result"
    }
   ],
   "source": [
    "df3"
   ],
   "metadata": {
    "collapsed": false
   }
  },
  {
   "cell_type": "code",
   "execution_count": 18,
   "outputs": [],
   "source": [
    "df3.to_csv(\"D:\\gpweb\\myweb\\static/stock_company.csv\",index = None,encoding=\"utf-8\")"
   ],
   "metadata": {
    "collapsed": false
   }
  },
  {
   "cell_type": "code",
   "execution_count": 22,
   "outputs": [
    {
     "data": {
      "text/plain": "Index(['ts_code', 'name', 'industry', 'fullname', 'market', 'list_date',\n       'reg_capital', 'setup_date', 'province', 'city', 'introduction',\n       'website', 'business_scope', 'employees', 'main_business'],\n      dtype='object')"
     },
     "execution_count": 22,
     "metadata": {},
     "output_type": "execute_result"
    }
   ],
   "source": [
    "pd.read_csv(\"D:\\gpweb\\myweb\\static/stock_company.csv\").columns"
   ],
   "metadata": {
    "collapsed": false
   }
  },
  {
   "cell_type": "code",
   "execution_count": 21,
   "outputs": [],
   "source": [
    "df3.drop(columns=['symbol','area','exchange']).to_csv(\"D:\\gpweb\\myweb\\static/stock_company.csv\",index = None,encoding=\"utf-8\")"
   ],
   "metadata": {
    "collapsed": false
   }
  },
  {
   "cell_type": "code",
   "execution_count": null,
   "outputs": [],
   "source": [],
   "metadata": {
    "collapsed": false
   }
  }
 ],
 "metadata": {
  "kernelspec": {
   "display_name": "Python 3",
   "language": "python",
   "name": "python3"
  },
  "language_info": {
   "codemirror_mode": {
    "name": "ipython",
    "version": 2
   },
   "file_extension": ".py",
   "mimetype": "text/x-python",
   "name": "python",
   "nbconvert_exporter": "python",
   "pygments_lexer": "ipython2",
   "version": "2.7.6"
  }
 },
 "nbformat": 4,
 "nbformat_minor": 0
}
